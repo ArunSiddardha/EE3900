{
  "nbformat": 4,
  "nbformat_minor": 0,
  "metadata": {
    "colab": {
      "name": "Untitled19.ipynb",
      "provenance": []
    },
    "kernelspec": {
      "name": "python3",
      "display_name": "Python 3"
    },
    "language_info": {
      "name": "python"
    }
  },
  "cells": [
    {
      "cell_type": "code",
      "metadata": {
        "colab": {
          "base_uri": "https://localhost:8080/",
          "height": 333
        },
        "id": "J2tcDnZi6_wL",
        "outputId": "d530eb06-7739-411c-b996-661c1daa073d"
      },
      "source": [
        "import matplotlib.pyplot as plt\n",
        "  \n",
        "data = [0, 0, 0, 1, 1, 1, 1, 1, 1/2, 0,0,0,0,0]\n",
        "  \n",
        "# separating the stem parts\n",
        "stems = [-4, -3, -2, -1, 0, 1, 2, 3, 4, 5,6,7,8,9]\n",
        "  \n",
        "plt.ylabel('x[n]')   # for label at y-axis\n",
        "  \n",
        "plt.xlabel('n')   # for label at x-axis\n",
        "  \n",
        "plt.xlim(-5, 10)   # limit of the values at x axis\n",
        "  \n",
        "plt.stem(stems, data)   # required plot\n",
        "plt.grid()\n"
      ],
      "execution_count": 24,
      "outputs": [
        {
          "output_type": "stream",
          "name": "stderr",
          "text": [
            "/usr/local/lib/python3.7/dist-packages/ipykernel_launcher.py:14: UserWarning: In Matplotlib 3.3 individual lines on a stem plot will be added as a LineCollection instead of individual lines. This significantly improves the performance of a stem plot. To remove this warning and switch to the new behaviour, set the \"use_line_collection\" keyword argument to True.\n",
            "  \n"
          ]
        },
        {
          "output_type": "display_data",
          "data": {
            "image/png": "[encoded data removed]",
            "text/plain": [
              "<Figure size 432x288 with 1 Axes>"
            ]
          },
          "metadata": {
            "needs_background": "light"
          }
        }
      ]
    },
    {
      "cell_type": "code",
      "metadata": {
        "colab": {
          "base_uri": "https://localhost:8080/",
          "height": 333
        },
        "id": "OM9u61ta76Bi",
        "outputId": "5fffa4c2-48cb-4391-aa69-c67a26379885"
      },
      "source": [
        "####### plot for x[n-2]#######\n",
        "import matplotlib.pyplot as plt\n",
        "  \n",
        "data = [0, 0, 0, 1, 1, 1, 1, 1, 1/2, 0,0,0,0,0]\n",
        "  \n",
        "# separating the stem parts\n",
        "stems = [-6, -5, -4, -3, -2, -1, 0, 1, 2, 3,4,5,6,7]\n",
        "  \n",
        "plt.ylabel('x[n-2]')   # for label at y-axis\n",
        "  \n",
        "plt.xlabel('n-2')   # for label at x-axis\n",
        "  \n",
        "plt.xlim(-7, 8)   # limit of the values at x axis\n",
        "  \n",
        "plt.stem(stems, data)   # required plot\n",
        "plt.grid()"
      ],
      "execution_count": 22,
      "outputs": [
        {
          "output_type": "stream",
          "name": "stderr",
          "text": [
            "/usr/local/lib/python3.7/dist-packages/ipykernel_launcher.py:14: UserWarning: In Matplotlib 3.3 individual lines on a stem plot will be added as a LineCollection instead of individual lines. This significantly improves the performance of a stem plot. To remove this warning and switch to the new behaviour, set the \"use_line_collection\" keyword argument to True.\n",
            "  \n"
          ]
        },
        {
          "output_type": "display_data",
          "data": {
            "image/png": "[encoded data removed]",
            "text/plain": [
              "<Figure size 432x288 with 1 Axes>"
            ]
          },
          "metadata": {
            "needs_background": "light"
          }
        }
      ]
    },
    {
      "cell_type": "code",
      "metadata": {
        "colab": {
          "base_uri": "https://localhost:8080/",
          "height": 333
        },
        "id": "WrGyDM698djB",
        "outputId": "d7834a7b-ffcb-48cc-d4a6-4e84d4711f19"
      },
      "source": [
        "####### plot for x[4-n]#######\n",
        "\n",
        "import matplotlib.pyplot as plt\n",
        "  \n",
        "data = [0, 0, 0, 1, 1, 1, 1, 1, 1/2, 0,0,0,0,0]\n",
        "  \n",
        "# separating the stem parts\n",
        "stems = [8, 7, 6, 5, 4, 3, 2, 1, 0, -1,-2,-3,-4,-5]\n",
        "  \n",
        "plt.ylabel('x[4-n]')   # for label at y-axis\n",
        "  \n",
        "plt.xlabel('4-n')   # for label at x-axis\n",
        "  \n",
        "plt.xlim(-6, 9)   # limit of the values at x axis\n",
        "  \n",
        "plt.stem(stems, data)   # required plot\n",
        "plt.grid()"
      ],
      "execution_count": 23,
      "outputs": [
        {
          "output_type": "stream",
          "name": "stderr",
          "text": [
            "/usr/local/lib/python3.7/dist-packages/ipykernel_launcher.py:14: UserWarning: In Matplotlib 3.3 individual lines on a stem plot will be added as a LineCollection instead of individual lines. This significantly improves the performance of a stem plot. To remove this warning and switch to the new behaviour, set the \"use_line_collection\" keyword argument to True.\n",
            "  \n"
          ]
        },
        {
          "output_type": "display_data",
          "data": {
            "image/png": "[encoded data removed]",
            "text/plain": [
              "<Figure size 432x288 with 1 Axes>"
            ]
          },
          "metadata": {
            "needs_background": "light"
          }
        }
      ]
    }
  ]
}